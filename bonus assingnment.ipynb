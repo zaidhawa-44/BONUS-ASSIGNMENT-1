{
 "cells": [
  {
   "cell_type": "markdown",
   "id": "5b20af98",
   "metadata": {},
   "source": [
    "# Practice your variables!\n",
    "Course: BBA 108-Essentials of Computing & Coding\n",
    "\n",
    "Submission date: Sunday (19/09/21), 11:59 p.m.\n",
    "\n",
    "Hey everyone! This is a practice bonus assignment worth 10 points. I **highly** encourage all of you to do this.\n",
    "\n",
    "Please contact the following **on Slack** if there are any questions or issues:\n",
    "\n",
    "- @Shourya Watwani \n",
    "- @Vanshika Raj \n",
    "- @Aryan Gupta \n",
    "\n",
    "Thank you! Happy coding :)\n"
   ]
  },
  {
   "cell_type": "code",
   "execution_count": null,
   "id": "d7643d51",
   "metadata": {},
   "outputs": [],
   "source": [
    "# Create and print a variable to tell us your name."
   ]
  },
  {
   "cell_type": "code",
   "execution_count": 3,
   "id": "0bdb4838",
   "metadata": {},
   "outputs": [
    {
     "data": {
      "text/plain": [
       "'zaid'"
      ]
     },
     "execution_count": 3,
     "metadata": {},
     "output_type": "execute_result"
    }
   ],
   "source": [
    "student_name = \"zaid\"\n",
    "student_name "
   ]
  },
  {
   "cell_type": "code",
   "execution_count": null,
   "id": "a48e84de",
   "metadata": {},
   "outputs": [],
   "source": [
    "# Create and print a variable to tell us your age."
   ]
  },
  {
   "cell_type": "code",
   "execution_count": 4,
   "id": "12c475b3",
   "metadata": {},
   "outputs": [
    {
     "data": {
      "text/plain": [
       "18"
      ]
     },
     "execution_count": 4,
     "metadata": {},
     "output_type": "execute_result"
    }
   ],
   "source": [
    "student_age = 18\n",
    "student_age"
   ]
  },
  {
   "cell_type": "code",
   "execution_count": null,
   "id": "fb242ec5",
   "metadata": {},
   "outputs": [],
   "source": [
    "# Create and print a variable to tell us how many times you've taken a trip within India."
   ]
  },
  {
   "cell_type": "code",
   "execution_count": 5,
   "id": "e7cf44d8",
   "metadata": {},
   "outputs": [
    {
     "data": {
      "text/plain": [
       "3"
      ]
     },
     "execution_count": 5,
     "metadata": {},
     "output_type": "execute_result"
    }
   ],
   "source": [
    "in_india = 3\n",
    "in_india"
   ]
  },
  {
   "cell_type": "code",
   "execution_count": null,
   "id": "ac849402",
   "metadata": {},
   "outputs": [],
   "source": [
    "# Create and print a variable to tell us how many times you've taken a trip outside India."
   ]
  },
  {
   "cell_type": "code",
   "execution_count": 6,
   "id": "adce6967",
   "metadata": {},
   "outputs": [
    {
     "data": {
      "text/plain": [
       "4"
      ]
     },
     "execution_count": 6,
     "metadata": {},
     "output_type": "execute_result"
    }
   ],
   "source": [
    "out_india = 4\n",
    "out_india"
   ]
  },
  {
   "cell_type": "code",
   "execution_count": 3,
   "id": "bf7668ee",
   "metadata": {},
   "outputs": [],
   "source": [
    "# Create and print a variable to calculate the total number of trips you've taken."
   ]
  },
  {
   "cell_type": "code",
   "execution_count": 7,
   "id": "776f6e8b",
   "metadata": {},
   "outputs": [
    {
     "data": {
      "text/plain": [
       "7"
      ]
     },
     "execution_count": 7,
     "metadata": {},
     "output_type": "execute_result"
    }
   ],
   "source": [
    "total_india = in_india + out_india\n",
    "total_india"
   ]
  },
  {
   "cell_type": "code",
   "execution_count": 4,
   "id": "52224f94",
   "metadata": {},
   "outputs": [],
   "source": [
    "# Create and print a variable to tell us total number of trips you've taken, using the numeric value in a sentence."
   ]
  },
  {
   "cell_type": "code",
   "execution_count": 16,
   "id": "ae7e3ff8",
   "metadata": {},
   "outputs": [
    {
     "data": {
      "text/plain": [
       "'the total trips i have taken is  '"
      ]
     },
     "execution_count": 16,
     "metadata": {},
     "output_type": "execute_result"
    }
   ],
   "source": [
    "starting_phrase = \"the total trips i have taken is  \"\n",
    "starting_phrase"
   ]
  },
  {
   "cell_type": "code",
   "execution_count": 17,
   "id": "8841337e",
   "metadata": {},
   "outputs": [
    {
     "data": {
      "text/plain": [
       "'the total trips i have taken is  7'"
      ]
     },
     "execution_count": 17,
     "metadata": {},
     "output_type": "execute_result"
    }
   ],
   "source": [
    "sentence = starting_phrase+str(total_india)\n",
    "sentence"
   ]
  },
  {
   "cell_type": "code",
   "execution_count": 6,
   "id": "612c68f3",
   "metadata": {},
   "outputs": [],
   "source": [
    "# Create and print a variable to tell us whether the statement-\n",
    "# -\"I have taken more trips within India than outside India\" is true or false using boolean variables."
   ]
  },
  {
   "cell_type": "code",
   "execution_count": 18,
   "id": "2f2565cd",
   "metadata": {},
   "outputs": [
    {
     "name": "stdout",
     "output_type": "stream",
     "text": [
      "in_india 3\n",
      "out_india 4\n"
     ]
    }
   ],
   "source": [
    "print(\"in_india\" , in_india)\n",
    "print(\"out_india\" , out_india)"
   ]
  },
  {
   "cell_type": "code",
   "execution_count": 19,
   "id": "c07b1d60",
   "metadata": {},
   "outputs": [
    {
     "data": {
      "text/plain": [
       "False"
      ]
     },
     "execution_count": 19,
     "metadata": {},
     "output_type": "execute_result"
    }
   ],
   "source": [
    "are_trips_in_india_more = in_india>out_india\n",
    "are_trips_in_india_more"
   ]
  },
  {
   "cell_type": "code",
   "execution_count": null,
   "id": "aaee2c68",
   "metadata": {},
   "outputs": [],
   "source": [
    "# Create and print a variable to calculate the average number of trips you've taken in a year using-\n",
    "# your total number of trips and your age."
   ]
  },
  {
   "cell_type": "code",
   "execution_count": 20,
   "id": "90ade564",
   "metadata": {},
   "outputs": [
    {
     "data": {
      "text/plain": [
       "0.3888888888888889"
      ]
     },
     "execution_count": 20,
     "metadata": {},
     "output_type": "execute_result"
    }
   ],
   "source": [
    "average_trips = (total_india)/student_age\n",
    "average_trips"
   ]
  },
  {
   "cell_type": "code",
   "execution_count": null,
   "id": "810f16f4",
   "metadata": {},
   "outputs": [],
   "source": [
    "# Create and print a variable to tell us average number of trips you've taken, using the numeric value in a sentence."
   ]
  },
  {
   "cell_type": "code",
   "execution_count": 21,
   "id": "940654f2",
   "metadata": {},
   "outputs": [
    {
     "data": {
      "text/plain": [
       "'the average trips i have taken is  '"
      ]
     },
     "execution_count": 21,
     "metadata": {},
     "output_type": "execute_result"
    }
   ],
   "source": [
    "starting_phrase = \"the average trips i have taken is  \"\n",
    "starting_phrase"
   ]
  },
  {
   "cell_type": "code",
   "execution_count": 22,
   "id": "9f1ff892",
   "metadata": {},
   "outputs": [
    {
     "data": {
      "text/plain": [
       "'the average trips i have taken is  0.3888888888888889'"
      ]
     },
     "execution_count": 22,
     "metadata": {},
     "output_type": "execute_result"
    }
   ],
   "source": [
    "sentence = starting_phrase+str(average_trips)\n",
    "sentence"
   ]
  }
 ],
 "metadata": {
  "kernelspec": {
   "display_name": "Python 3",
   "language": "python",
   "name": "python3"
  },
  "language_info": {
   "codemirror_mode": {
    "name": "ipython",
    "version": 3
   },
   "file_extension": ".py",
   "mimetype": "text/x-python",
   "name": "python",
   "nbconvert_exporter": "python",
   "pygments_lexer": "ipython3",
   "version": "3.8.8"
  }
 },
 "nbformat": 4,
 "nbformat_minor": 5
}
